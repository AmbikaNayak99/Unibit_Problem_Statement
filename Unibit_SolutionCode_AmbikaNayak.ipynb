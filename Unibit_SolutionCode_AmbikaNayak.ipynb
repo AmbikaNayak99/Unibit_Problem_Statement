{
 "cells": [
  {
   "cell_type": "code",
   "execution_count": 1,
   "id": "f967a18b",
   "metadata": {},
   "outputs": [],
   "source": [
    "import numpy as np"
   ]
  },
  {
   "cell_type": "code",
   "execution_count": 26,
   "id": "15207038",
   "metadata": {},
   "outputs": [
    {
     "name": "stdout",
     "output_type": "stream",
     "text": [
      "Enter the target value : 5\n",
      "First Combination For 5 : [[0, 4], [1, 3], [4, 5]]\n",
      "Merge into a single Array : [0, 1, 3, 4, 4, 5]\n",
      "Second Combination For 10 : [[0, 0, 1], [0, 1, 5], [0, 2, 4], [1, 1, 4], [1, 2, 3], [1, 5, 5], [2, 4, 5]]\n"
     ]
    }
   ],
   "source": [
    "Given_Array = [3,4,5,1,2,3]\n",
    "array_1=[]\n",
    "array_3=[]\n",
    "array_5=[]\n",
    "Target_Value = int(input(\"Enter the target value : \"))\n",
    "for i in range(len(Given_Array)):\n",
    "    for j in range(i,len(Given_Array)):\n",
    "        if (Given_Array[i] + Given_Array[j]) == Target_Value:\n",
    "            array_2 = [i, j]\n",
    "            array_1.append(array_2)\n",
    "print(\"First Combination For\",Target_Value,\":\",array_1)\n",
    "\n",
    "for m in range (len(array_1)):\n",
    "    for n in range (len(array_1[m])):\n",
    "           array_5.append(array_1[m][n])\n",
    "array_5.sort()\n",
    "print(\"Merge into a single Array\",\":\",array_5)\n",
    "            \n",
    "target_double = 2*int(Target_Value)\n",
    "\n",
    "for i in range(len(Given_Array)):\n",
    "    for j in range(i,len(Given_Array)):\n",
    "        for k in range(j,len(Given_Array)):\n",
    "            if (Given_Array[i] + Given_Array[j] + Given_Array[k]) == target_double:\n",
    "                array_4 = [i, j, k]\n",
    "                array_3.append(array_4)\n",
    "print(\"Second Combination For\",target_double,\":\",array_3)"
   ]
  },
  {
   "cell_type": "code",
   "execution_count": null,
   "id": "1e63087b",
   "metadata": {},
   "outputs": [],
   "source": []
  },
  {
   "cell_type": "code",
   "execution_count": null,
   "id": "242fa322",
   "metadata": {},
   "outputs": [],
   "source": []
  },
  {
   "cell_type": "code",
   "execution_count": null,
   "id": "220714d4",
   "metadata": {},
   "outputs": [],
   "source": []
  },
  {
   "cell_type": "code",
   "execution_count": null,
   "id": "325431e5",
   "metadata": {},
   "outputs": [],
   "source": []
  }
 ],
 "metadata": {
  "kernelspec": {
   "display_name": "Python 3 (ipykernel)",
   "language": "python",
   "name": "python3"
  },
  "language_info": {
   "codemirror_mode": {
    "name": "ipython",
    "version": 3
   },
   "file_extension": ".py",
   "mimetype": "text/x-python",
   "name": "python",
   "nbconvert_exporter": "python",
   "pygments_lexer": "ipython3",
   "version": "3.8.13"
  }
 },
 "nbformat": 4,
 "nbformat_minor": 5
}
